{
 "cells": [
  {
   "cell_type": "code",
   "execution_count": 1,
   "metadata": {},
   "outputs": [],
   "source": [
    "import json\n",
    "import pennylane as qml\n",
    "import pennylane.numpy as np"
   ]
  },
  {
   "cell_type": "code",
   "execution_count": 2,
   "metadata": {},
   "outputs": [],
   "source": [
    "# angle matrix\n",
    "params = np.array([[[1.0472, 0.7854, 3.1416, 0.3927],\n",
    "                    [1.0472, 0.7854, 3.1416, 0.5236]],\n",
    "                   [[1.0472, 0.7854, 1.5708, 0.3927],\n",
    "                    [0.7854, 0.7854, 1.5708, 0.7854]]])"
   ]
  },
  {
   "cell_type": "code",
   "execution_count": 3,
   "metadata": {},
   "outputs": [
    {
     "name": "stdout",
     "output_type": "stream",
     "text": [
      "[[[1.0472 0.7854 3.1416 0.3927]\n",
      "  [1.0472 0.7854 3.1416 0.5236]]\n",
      "\n",
      " [[1.0472 0.7854 1.5708 0.3927]\n",
      "  [0.7854 0.7854 1.5708 0.7854]]]\n"
     ]
    }
   ],
   "source": [
    "d, n, m = np.shape(params)\n",
    "print(params)"
   ]
  },
  {
   "cell_type": "code",
   "execution_count": 4,
   "metadata": {},
   "outputs": [],
   "source": [
    "def W(params):\n",
    "    \n",
    "    \"\"\"\n",
    "    Subcircuit that implements the trainable block W\n",
    "    \n",
    "    Args:\n",
    "        params (np.array): A matrix containing the parameters for the trainable block W. The length of\n",
    "        params is equal to the depth of the circuit. The length of each row in params is the number \n",
    "        of qubits used. See the challenge statement for a detailed explanation\n",
    "    Returns:\n",
    "        Since this function is a subcircuit, you must not return anything.\n",
    "    \n",
    "    \"\"\"\n",
    "\n",
    "    n, m = np.shape(params)    \n",
    "    for i in range(n):\n",
    "        angles = params[i]\n",
    "        for j in range(m):\n",
    "            qml.RY(angles[j], wires=j)\n",
    "        for j in range(m-1):\n",
    "            qml.CNOT(wires=[j, j+1])\n",
    "        qml.CNOT(wires=[m-1, 0])"
   ]
  },
  {
   "cell_type": "code",
   "execution_count": 5,
   "metadata": {},
   "outputs": [],
   "source": [
    "def S(g, x, num_wires):\n",
    "    \n",
    "    \"\"\"\n",
    "    Subcircuit that implements the encoding block S\n",
    "    \n",
    "    Args:\n",
    "        g (pennylane.Operator): A PennyLane operator representing the generator for the encoding\n",
    "        gates. It must be Hermitian in order to generate a unitary. Call it as g(wires) to specify\n",
    "        the wires on which it acts.\n",
    "        x (complex): The scalar coefficient of the operator g.\n",
    "        num_wires (int): The number of wires over which the encoding gate is broadcast.\n",
    "        \n",
    "        \n",
    "    Returns:\n",
    "        Since this function is a subcircuit, you must not return anything.\n",
    "    \n",
    "    \"\"\"\n",
    "    \n",
    "    for i in range(num_wires):\n",
    "        op = getattr(qml, g)\n",
    "        qml.exp(op(wires=i), 1j*x)"
   ]
  },
  {
   "cell_type": "code",
   "execution_count": 6,
   "metadata": {},
   "outputs": [],
   "source": [
    "dev = qml.device(\"default.qubit\", wires=4)\n",
    "\n",
    "@qml.qnode(dev, expansion_strategy = \"device\")\n",
    "def quantum_model(param_set, g, x):\n",
    "    \n",
    "    \"\"\"\n",
    "    This QNode implements the quantum model with alternating trainable and encoding blocks\n",
    "    \n",
    "    Args:\n",
    "        param_set (np.array): A numpy array whose elements are the parameter matrices for each of the trainable\n",
    "        blocks. Therefore, the length of this list is equal to the number of trainable blocks, which is greater\n",
    "        than, or equal to 2.\n",
    "        g (pennylane.Operator): A PennyLane operator representing the generator for the encoding\n",
    "        gates. It must be Hermitian in order to generate a unitary.\n",
    "        x: The scalar coefficient of the operator g.\n",
    "    Returns:\n",
    "        (np.tensor(float)): A tensor of dimensions (2,) representing the measurement probabilities in the computational \n",
    "        basis on the first wire.\n",
    "    \"\"\"\n",
    "    \n",
    "    d, n, m = np.shape(param_set)\n",
    "    \n",
    "    for i in range(d-1):\n",
    "        params = param_set[i]\n",
    "        W(params)\n",
    "        S(g, x, m)\n",
    "    W(param_set[d-1])\n",
    "\n",
    "    return qml.probs(wires=0)\n"
   ]
  },
  {
   "cell_type": "code",
   "execution_count": 7,
   "metadata": {},
   "outputs": [
    {
     "name": "stdout",
     "output_type": "stream",
     "text": [
      "(2, 2, 4)\n",
      "[[1.0472, 0.7854, 3.1416, 0.3927], [1.0472, 0.7854, 3.1416, 0.5236]]\n"
     ]
    }
   ],
   "source": [
    "# test 1\n",
    "param_set, g, x = [[[1.0472, 0.7854, 3.1416, 0.3927],\n",
    "                    [1.0472, 0.7854, 3.1416, 0.5236]],\n",
    "                    [[1.0472, 0.7854, 1.5708, 0.3927],\n",
    "                    [0.7854, 0.7854, 1.5708, 0.7854]]], \"PauliX\", 0.7854\n",
    "\n",
    "print(np.shape(param_set))\n",
    "print(param_set[0])"
   ]
  },
  {
   "cell_type": "code",
   "execution_count": 8,
   "metadata": {},
   "outputs": [
    {
     "name": "stdout",
     "output_type": "stream",
     "text": [
      "0: ──RY(1.05)─╭●───────╭X──RY(1.05)─╭●───────╭X──Exp(0.00+0.79j X)──RY(1.05)─╭●───────╭X──RY(0.79)\n",
      "1: ──RY(0.79)─╰X─╭●────│───RY(0.79)─╰X─╭●────│───Exp(0.00+0.79j X)──RY(0.79)─╰X─╭●────│───RY(0.79)\n",
      "2: ──RY(3.14)────╰X─╭●─│───RY(3.14)────╰X─╭●─│───Exp(0.00+0.79j X)──RY(1.57)────╰X─╭●─│───RY(1.57)\n",
      "3: ──RY(0.39)───────╰X─╰●──RY(0.52)───────╰X─╰●──Exp(0.00+0.79j X)──RY(0.39)───────╰X─╰●──RY(0.79)\n",
      "\n",
      "──╭●───────╭X─┤  Probs\n",
      "──╰X─╭●────│──┤       \n",
      "─────╰X─╭●─│──┤       \n",
      "────────╰X─╰●─┤       \n"
     ]
    }
   ],
   "source": [
    "drawer = qml.draw(quantum_model)\n",
    "print(drawer(param_set, g, x))"
   ]
  },
  {
   "cell_type": "code",
   "execution_count": 9,
   "metadata": {},
   "outputs": [
    {
     "name": "stdout",
     "output_type": "stream",
     "text": [
      "Expected output:  [0.46653, 0.53347]\n",
      "Test output:  [0.46652954 0.53347046]\n"
     ]
    }
   ],
   "source": [
    "expected_output = [0.46653, 0.53347]\n",
    "test_output = quantum_model(param_set, g, x)\n",
    "print(\"Expected output: \", expected_output)\n",
    "print(\"Test output: \", test_output)"
   ]
  },
  {
   "cell_type": "code",
   "execution_count": 10,
   "metadata": {},
   "outputs": [
    {
     "name": "stdout",
     "output_type": "stream",
     "text": [
      "0: ──RY(0.63)─╭●───────╭X──RY(0.79)─╭●───────╭X──Exp(0.00+0.52j Y)──RY(0.31)─╭●───────╭X──RY(0.31)\n",
      "1: ──RY(0.39)─╰X─╭●────│───RY(0.31)─╰X─╭●────│───Exp(0.00+0.52j Y)──RY(0.79)─╰X─╭●────│───RY(0.39)\n",
      "2: ──RY(1.05)────╰X─╭●─│───RY(0.63)────╰X─╭●─│───Exp(0.00+0.52j Y)──RY(0.79)────╰X─╭●─│───RY(0.31)\n",
      "3: ──RY(0.79)───────╰X─╰●──RY(0.52)───────╰X─╰●──Exp(0.00+0.52j Y)──RY(0.39)───────╰X─╰●──RY(0.39)\n",
      "\n",
      "──╭●───────╭X─┤  Probs\n",
      "──╰X─╭●────│──┤       \n",
      "─────╰X─╭●─│──┤       \n",
      "────────╰X─╰●─┤       \n"
     ]
    }
   ],
   "source": [
    "# test 2\n",
    "param_set, g, x = [[[0.62832, 0.3927, 1.0472, 0.7854],\n",
    "                    [0.7854, 0.31416, 0.62832, 0.5236]],\n",
    "                    [[0.31416, 0.7854, 0.7854, 0.3927],\n",
    "                    [0.31416, 0.3927, 0.31416, 0.3927]]], \"PauliY\", 0.5236\n",
    "\n",
    "drawer = qml.draw(quantum_model)\n",
    "print(drawer(param_set, g, x))"
   ]
  },
  {
   "cell_type": "code",
   "execution_count": 11,
   "metadata": {},
   "outputs": [
    {
     "name": "stdout",
     "output_type": "stream",
     "text": [
      "Expected output:  [0.68594, 0.31406]\n",
      "Test output:  [0.68594115 0.31405885]\n"
     ]
    }
   ],
   "source": [
    "expected_output = [0.68594, 0.31406]\n",
    "print(\"Expected output: \", expected_output)\n",
    "print(\"Test output: \", quantum_model(param_set, g, x))"
   ]
  },
  {
   "cell_type": "code",
   "execution_count": null,
   "metadata": {},
   "outputs": [],
   "source": []
  }
 ],
 "metadata": {
  "kernelspec": {
   "display_name": "Python 3",
   "language": "python",
   "name": "python3"
  },
  "language_info": {
   "codemirror_mode": {
    "name": "ipython",
    "version": 3
   },
   "file_extension": ".py",
   "mimetype": "text/x-python",
   "name": "python",
   "nbconvert_exporter": "python",
   "pygments_lexer": "ipython3",
   "version": "3.11.0"
  }
 },
 "nbformat": 4,
 "nbformat_minor": 2
}
