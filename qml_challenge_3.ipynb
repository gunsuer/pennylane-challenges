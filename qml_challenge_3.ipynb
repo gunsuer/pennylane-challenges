{
 "cells": [
  {
   "cell_type": "code",
   "execution_count": 129,
   "metadata": {},
   "outputs": [],
   "source": [
    "import pennylane as qml\n",
    "import pennylane.numpy as np"
   ]
  },
  {
   "cell_type": "code",
   "execution_count": 187,
   "metadata": {},
   "outputs": [],
   "source": [
    "def U_psi(theta):\n",
    "    \"\"\"\n",
    "    Quantum function that generates |psi>, Zenda's state wants to send to Reece.\n",
    "\n",
    "    Args:\n",
    "        theta (float): Parameter that generates the state.\n",
    "\n",
    "    \"\"\"\n",
    "    qml.Hadamard(wires = 0)\n",
    "    qml.CRX(theta, wires = [0,1])\n",
    "    qml.CRZ(theta, wires = [0,1])"
   ]
  },
  {
   "cell_type": "code",
   "execution_count": 280,
   "metadata": {},
   "outputs": [],
   "source": [
    "def is_unsafe(alpha, beta, epsilon):\n",
    "    \"\"\"\n",
    "    Boolean function that we will use to know if a set of parameters is unsafe.\n",
    "\n",
    "    Args:\n",
    "        alpha (float): parameter used to encode the state.\n",
    "        beta (float): parameter used to encode the state.\n",
    "        epsilon (float): unsafe-tolerance.\n",
    "\n",
    "    Returns:\n",
    "        (bool): 'True' if alpha and beta are epsilon-unsafe coefficients. 'False' in the other case.\n",
    "\n",
    "    \"\"\"\n",
    "\n",
    "    O = qml.matrix((qml.RX(beta,wires=0)  @ qml.RX(beta,wires=1))\n",
    "                          @ (qml.RZ(alpha,wires=0) @ qml.RZ(alpha,wires=1)))\n",
    "    \n",
    "    psi_bra = np.array([1,0,0,0]) \n",
    "    psi_ket = psi_bra.T\n",
    "\n",
    "    is_unsafe = False\n",
    "\n",
    "    thetas = np.linspace(0,2*np.pi,num=100)\n",
    "    for theta in thetas:\n",
    "        U = qml.matrix(U_psi,wire_order=[0,1])(theta)\n",
    "        Udg = qml.matrix(qml.adjoint(U_psi),wire_order=[0,1])(theta)\n",
    "        exp_val = psi_bra @ Udg @ O @ U @ psi_ket\n",
    "\n",
    "        if np.absolute(exp_val)**2 >= (1 - epsilon):\n",
    "            is_unsafe = True\n",
    "    \n",
    "\n",
    "    return is_unsafe\n"
   ]
  },
  {
   "cell_type": "code",
   "execution_count": 283,
   "metadata": {},
   "outputs": [
    {
     "data": {
      "text/plain": [
       "False"
      ]
     },
     "execution_count": 283,
     "metadata": {},
     "output_type": "execute_result"
    }
   ],
   "source": [
    "test1 = [0.1, 0.2, 0.3] # true\n",
    "test2 = [1.1, 1.2, 0.3] # false\n",
    "test3 = [1.1, 1.2, 0.4] # true\n",
    "test4 = [0.5, 1.9, 0.7] # true\n",
    "\n",
    "is_unsafe(*test2)"
   ]
  },
  {
   "cell_type": "code",
   "execution_count": 291,
   "metadata": {},
   "outputs": [],
   "source": [
    "# Step 1: initialize a device\n",
    "dev = qml.device(\"default.qubit\",wires=1)\n",
    "\n",
    "# Step 2: Add a decorator below\n",
    "@qml.qnode(dev)\n",
    "def simple_circuit(angle):\n",
    "\n",
    "    \"\"\"\n",
    "    In this function:\n",
    "        * Rotate the qubit around the y-axis by angle\n",
    "        * Measure the expectation value of the Pauli X observable\n",
    "\n",
    "    Args:\n",
    "        angle (float): how much to rotate a state around the y-axis\n",
    "\n",
    "    Returns:\n",
    "        Union[tensor, float]: The expectation value of the Pauli X observable\n",
    "    \"\"\"\n",
    "    \n",
    "\n",
    "    qml.RY(angle,wires=0)\n",
    "\n",
    "    return qml.expval(qml.PauliX(wires=0))"
   ]
  },
  {
   "cell_type": "code",
   "execution_count": 292,
   "metadata": {},
   "outputs": [
    {
     "data": {
      "text/plain": [
       "tensor(0.09983342, requires_grad=True)"
      ]
     },
     "execution_count": 292,
     "metadata": {},
     "output_type": "execute_result"
    }
   ],
   "source": [
    "simple_circuit(0.1)"
   ]
  },
  {
   "cell_type": "code",
   "execution_count": null,
   "metadata": {},
   "outputs": [],
   "source": []
  }
 ],
 "metadata": {
  "kernelspec": {
   "display_name": "Python 3",
   "language": "python",
   "name": "python3"
  },
  "language_info": {
   "codemirror_mode": {
    "name": "ipython",
    "version": 3
   },
   "file_extension": ".py",
   "mimetype": "text/x-python",
   "name": "python",
   "nbconvert_exporter": "python",
   "pygments_lexer": "ipython3",
   "version": "3.11.0"
  }
 },
 "nbformat": 4,
 "nbformat_minor": 2
}
